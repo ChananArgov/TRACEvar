{
 "cells": [
  {
   "cell_type": "code",
   "execution_count": 1,
   "metadata": {},
   "outputs": [],
   "source": [
    "\"\"\"\n",
    "This script comparing the performance of the multi-tissue model to CADD and to random expectations (Fig. 4B).\n",
    "It is based on the output of the Transfear_Learning_hg37_Multiprossesing_Doc.ipynb script. \n",
    "\"\"\""
   ]
  },
  {
   "cell_type": "code",
   "execution_count": null,
   "metadata": {},
   "outputs": [],
   "source": [
    "import pandas as pd\n",
    "import os\n",
    "import seaborn as sns\n",
    "import matplotlib.pyplot as plt\n",
    "import matplotlib as mpl\n",
    "\n",
    "mpl.rcParams['axes.spines.left'] = True\n",
    "mpl.rcParams['axes.spines.right'] = False\n",
    "mpl.rcParams['axes.spines.top'] = False\n",
    "mpl.rcParams['axes.spines.bottom'] = True\n"
   ]
  },
  {
   "cell_type": "code",
   "execution_count": 2,
   "metadata": {},
   "outputs": [
    {
     "name": "stdout",
     "output_type": "stream",
     "text": [
      "                   Tissue    Method    PR_AUC   ROC_AUC\n",
      "0                    Lung  TRACEvar  0.070042  0.913706\n",
      "1                    Lung      CADD  0.072014  0.752470\n",
      "2                    Lung  Expected  0.009313  0.500000\n",
      "0       Muscle - Skeletal  TRACEvar  0.352356  0.946239\n",
      "1       Muscle - Skeletal      CADD  0.127834  0.692406\n",
      "2       Muscle - Skeletal  Expected  0.026056  0.500000\n",
      "0          Artery - Aorta  TRACEvar  0.034664  0.849618\n",
      "1          Artery - Aorta      CADD  0.039527  0.736329\n",
      "2          Artery - Aorta  Expected  0.008607  0.500000\n",
      "0  Heart - Left Ventricle  TRACEvar  0.396620  0.950666\n",
      "1  Heart - Left Ventricle      CADD  0.135697  0.695177\n",
      "2  Heart - Left Ventricle  Expected  0.028631  0.500000\n",
      "0                   Liver  TRACEvar  0.067540  0.937892\n",
      "1                   Liver      CADD  0.034046  0.730302\n",
      "2                   Liver  Expected  0.007121  0.500000\n",
      "0          Nerve - Tibial  TRACEvar  0.046187  0.759987\n",
      "1          Nerve - Tibial      CADD  0.031984  0.713190\n",
      "2          Nerve - Tibial  Expected  0.008283  0.500000\n",
      "0  Skin - Not Sun Exposed  TRACEvar  0.240645  0.918272\n",
      "1  Skin - Not Sun Exposed      CADD  0.092810  0.731960\n",
      "2  Skin - Not Sun Exposed  Expected  0.019671  0.500000\n",
      "0               Pituitary  TRACEvar  0.032690  0.834870\n",
      "1               Pituitary      CADD  0.017065  0.723556\n",
      "2               Pituitary  Expected  0.004002  0.500000\n",
      "0                   Ovary  TRACEvar  0.055409  0.874775\n",
      "1                   Ovary      CADD  0.013921  0.689360\n",
      "2                   Ovary  Expected  0.004120  0.500000\n",
      "0                  Testis  TRACEvar  0.122087  0.927945\n",
      "1                  Testis      CADD  0.049820  0.714242\n",
      "2                  Testis  Expected  0.011402  0.500000\n",
      "0             Whole Blood  TRACEvar  0.059881  0.867203\n",
      "1             Whole Blood      CADD  0.030914  0.717997\n",
      "2             Whole Blood  Expected  0.007886  0.500000\n",
      "0                   brain  TRACEvar  0.392977  0.820306\n",
      "1                   brain      CADD  0.430736  0.758004\n",
      "2                   brain  Expected  0.086688  0.500000\n"
     ]
    }
   ],
   "source": [
    "path = os.path.join('..', '..', 'Output', 'Transfer_learning_hg37_ALL_Results_New.csv')\n",
    "Transfer_Results = pd.read_csv(path, index_col=0)\n",
    "\n",
    "Transfer_Results.loc[Transfer_Results['Method'] == 'TRACEvar', 'Method'] = 'TRACEvar'\n",
    "Transfer_Results.loc[Transfer_Results['Method'] == 'Pathogenic_proportion', 'Method'] = 'Expected'\n",
    "\n",
    "print(Transfer_Results)\n"
   ]
  },
  {
   "cell_type": "code",
   "execution_count": 3,
   "metadata": {},
   "outputs": [
    {
     "name": "stdout",
     "output_type": "stream",
     "text": [
      "['Lung', 'Muscle - Skeletal', 'Artery - Aorta', 'Heart - Left Ventricle', 'Liver', 'Nerve - Tibial', 'Skin - Not Sun Exposed', 'Pituitary', 'Ovary', 'Testis', 'Whole Blood', 'brain']\n",
      "relevant_tissues 12 ['Lung', 'Muscle - Skeletal', 'Artery - Aorta', 'Heart - Left Ventricle', 'Liver', 'Nerve - Tibial', 'Skin - Not Sun Exposed', 'Pituitary', 'Ovary', 'Testis', 'Whole Blood', 'brain']\n"
     ]
    },
    {
     "data": {
      "image/png": "[encoded data removed]",
      "text/plain": [
       "<Figure size 432x576 with 2 Axes>"
      ]
     },
     "metadata": {
      "needs_background": "light"
     },
     "output_type": "display_data"
    }
   ],
   "source": [
    "fig, (ax1, ax2) = plt.subplots(2, 1, figsize=(6, 8))\n",
    "tissues = Transfer_Results['Tissue'].unique().tolist()\n",
    "print(tissues)\n",
    "relevant_tissues = ['Lung', 'Muscle - Skeletal',  'Artery - Aorta', 'Heart - Left Ventricle',  'Liver', 'Nerve - Tibial',   'Skin - Not Sun Exposed',  'Pituitary', 'Ovary',  'Testis', 'Whole Blood', 'brain']\n",
    "print('relevant_tissues', len(relevant_tissues), relevant_tissues)\n",
    "\n",
    "order=['Expected', 'CADD', 'TRACEvar']\n",
    "Transfer_Results.rename(columns={\"PR_AUC\":'auPRC', 'ROC_AUC':'auROC'}, inplace=True)\n",
    "sns.boxplot(x=\"Method\", y=\"auPRC\", data=Transfer_Results[Transfer_Results['Tissue'].isin(relevant_tissues)], palette=[ 'silver', 'pink', 'cornflowerblue'],  ax=ax2, order=order) #ROC_AUC, PR_AUC,\n",
    "sns.swarmplot(x=\"Method\", y=\"auPRC\", data=Transfer_Results[Transfer_Results['Tissue'].isin(relevant_tissues)], color='gray',  ax=ax2, order=order)\n",
    "\n",
    "sns.boxplot(x=\"Method\", y=\"auROC\", data=Transfer_Results[Transfer_Results['Tissue'].isin(relevant_tissues)], palette=['silver', 'pink', 'cornflowerblue'],  ax=ax1, order=order) #ROC_AUC, PR_AUC,\n",
    "sns.swarmplot(x=\"Method\", y=\"auROC\", data=Transfer_Results[Transfer_Results['Tissue'].isin(relevant_tissues)], color='gray',  ax=ax1 , order=order)\n",
    "\n",
    "fig.suptitle('Transfer Learning Main Tissues')\n",
    "\n",
    "path = os.path.join('..', '..', 'Output', 'Transfer_learning_hg37_ALL_Results_New.pdf')\n",
    "plt.savefig(path)\n"
   ]
  },
  {
   "cell_type": "code",
   "execution_count": 4,
   "metadata": {
    "scrolled": false
   },
   "outputs": [
    {
     "name": "stdout",
     "output_type": "stream",
     "text": [
      "0.8942404683247571\n",
      "0.0687912184058255\n"
     ]
    }
   ],
   "source": [
    "print(Transfer_Results['auROC'][Transfer_Results['Method'] == 'TRACEvar'].median())\n",
    "print(Transfer_Results['auPRC'][Transfer_Results['Method'] == 'TRACEvar'].median())"
   ]
  },
  {
   "cell_type": "code",
   "execution_count": 5,
   "metadata": {},
   "outputs": [
    {
     "name": "stdout",
     "output_type": "stream",
     "text": [
      "MannwhitneyuResult(statistic=144.0, pvalue=1.82922767694855e-05)\n"
     ]
    }
   ],
   "source": [
    "import scipy.stats as sts\n",
    "\n",
    "tl_performance = Transfer_Results['auROC'][Transfer_Results['Method'] == 'TRACEvar']\n",
    "cadd_performance = Transfer_Results['auROC'][Transfer_Results['Method'] == 'CADD']\n",
    "\n",
    "test_results = sts.mannwhitneyu(tl_performance, cadd_performance, alternative='greater')\n",
    "print(test_results)"
   ]
  },
  {
   "cell_type": "code",
   "execution_count": null,
   "metadata": {},
   "outputs": [],
   "source": []
  }
 ],
 "metadata": {
  "kernelspec": {
   "display_name": "Python 3",
   "language": "python",
   "name": "python3"
  },
  "language_info": {
   "codemirror_mode": {
    "name": "ipython",
    "version": 3
   },
   "file_extension": ".py",
   "mimetype": "text/x-python",
   "name": "python",
   "nbconvert_exporter": "python",
   "pygments_lexer": "ipython3",
   "version": "3.7.6"
  }
 },
 "nbformat": 4,
 "nbformat_minor": 4
}
